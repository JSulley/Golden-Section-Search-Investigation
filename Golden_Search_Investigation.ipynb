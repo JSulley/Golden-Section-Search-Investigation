{
  "cells": [
    {
      "cell_type": "code",
      "execution_count": 160,
      "metadata": {
        "id": "8CfUopWhlB6y"
      },
      "outputs": [],
      "source": [
        "import numpy as np\n",
        "from matplotlib.pylab import *\n",
        "%matplotlib inline\n",
        "\n",
        "# 1/𝞿 = (√5 - 1)/2\n",
        "PHI_INVERSE = (np.math.sqrt(5)-1) / 2"
      ]
    },
    {
      "cell_type": "markdown",
      "metadata": {},
      "source": [
        "# Part I\n",
        "This portion is my attempt to implement the Golden Section Search as described on pages 7 and 8 in the following text:\n",
        "https://nm.mathforcollege.com/mws/gen/09opt/mws_gen_opt_txt_goldensearch.pdf"
      ]
    },
    {
      "cell_type": "code",
      "execution_count": 161,
      "metadata": {
        "id": "h5LWmKEZlIW9"
      },
      "outputs": [],
      "source": [
        "def optimize_function_gs(f: \"function\", interval: ndarray, optIsMax: bool=True, epsilon: float=0.05) -> tuple:\n",
        "    \"\"\"\n",
        "    Returns the optimal point's coordinates determined by the Golden Section Search for the given function within the interval.\n",
        "\n",
        "    Parameters\n",
        "      f - Function being optimized\n",
        "\n",
        "      interval - Array containing the endpoints of the interval\n",
        "\n",
        "      optIsMax - The optimal point is a maximum by default\n",
        "\n",
        "      epsilon - The tolerance level the algorithm will stop at\n",
        "\n",
        "    Returns\n",
        "      Tuple containing optimal point's coordinates\n",
        "    \"\"\"\n",
        "    # Initialize the lower bound and upper bound as xL and xU, respectively\n",
        "    # Calculate the difference between the lower and upper bound (tolerance)\n",
        "    xL, xU = interval\n",
        "    tolerance = xU - xL\n",
        "    \n",
        "    # Calculate initial intermediate points using the boundaries, PHI_INVERSE and tolerance\n",
        "    phi_inv_times_tolerance = PHI_INVERSE * tolerance\n",
        "    x1 = xL + phi_inv_times_tolerance\n",
        "    x2 = xU - phi_inv_times_tolerance\n",
        "      \n",
        "    while tolerance >= epsilon:\n",
        "      # Evaluate the function at x1 and x2\n",
        "      fx1 = f(x1)\n",
        "      fx2 = f(x2)\n",
        "\n",
        "      # Determine the new interval ([xL, x2, x1] or [x2, x1, xU]) based on the comparison between fx1\n",
        "      # and fx2 and optIsMax's value\n",
        "      # There are two cases for each one can be chosen from, but to simplify, this tests the conditions\n",
        "      # to choose [x2, x1, xU]. Otherwise, [xL, x2, x1] is the new interval. The values are then updated accordingly.\n",
        "      if (fx1 >= fx2 and optIsMax) or (fx1 < fx2 and not optIsMax):\n",
        "        xL = x2\n",
        "        x2 = x1\n",
        "        x1 = xL + PHI_INVERSE*(xU-xL) \n",
        "      else:\n",
        "        xU = x1\n",
        "        x1 = x2\n",
        "        x2 = xU - PHI_INVERSE*(xU-xL)  \n",
        "      \n",
        "      # Update tolerance\n",
        "      tolerance = xU - xL\n",
        "\n",
        "    # Calculate x coordinate of optimal point\n",
        "    xOpt = (xU + xL) / 2\n",
        "\n",
        "    # Evaluate the function at xOpt\n",
        "    yOpt = f(xOpt)\n",
        "\n",
        "    return xOpt, yOpt"
      ]
    },
    {
      "cell_type": "markdown",
      "metadata": {},
      "source": [
        "Optimize the function $f(x) = 4\\sin(x)(1 + \\cos(x))$ with $\\epsilon=0.05$ on the interval $[0, \\pi/2]$ given that the optimum is a maximum."
      ]
    },
    {
      "cell_type": "code",
      "execution_count": 162,
      "metadata": {
        "colab": {
          "base_uri": "https://localhost:8080/"
        },
        "id": "bFlUMvLrltSg",
        "outputId": "1c6c3a20-9c6a-4e05-ad08-b88f2e0ba26f"
      },
      "outputs": [
        {
          "name": "stdout",
          "output_type": "stream",
          "text": [
            "The optimal value is approximately 5.19599 and corresponds to the x-value 1.04162.\n"
          ]
        }
      ],
      "source": [
        "def f(x: float) -> float:\n",
        "  return 4*np.math.sin(x) * (1+np.math.cos(x))\n",
        "\n",
        "interval = np.array([0, np.math.pi / 2])\n",
        "xOpt, yOpt = optimize_function_gs(f, interval)\n",
        "\n",
        "print(f\"The optimal value is approximately {yOpt:0.5f} and corresponds to the x-value {xOpt:0.5f}.\")"
      ]
    },
    {
      "cell_type": "markdown",
      "metadata": {},
      "source": [
        "# Part II\n",
        "Consider the Golden Section Search Method for the function $f(x)$ on the interval $[0,b]$. The method involves choosing a point $x$ where $0<x<b/2$, then evaluating $f(x)$ and $f(b-x)$.\n",
        "If $f(x)<f(b-x)$, then the optimum is in the interval $[0,b-x]$.\n",
        "\n",
        "Suppose $f(x)<f(b-x)$. Define $b'=b-x$. Then $0<x<b'$ is true as shown below:\n",
        "$$0 < x < \\frac{b}{2}$$\n",
        "$$0 > -x > -\\frac{b}{2}$$\n",
        "$$b > b-x > b-\\frac{b}{2}$$\n",
        "$$b > b-x > \\frac{b}{2}$$\n",
        "However, it was given that $0<x<b/2$ which means\n",
        "$$b > b-x > \\frac{b}{2} > x > 0$$\n",
        "Now substitute for $b-x$\n",
        "$$b > b' > \\frac{b}{2} > x > 0 \\Rightarrow b' > x > 0$$\n",
        "Or equivalently\n",
        "$$0 < x < b'$$"
      ]
    },
    {
      "cell_type": "markdown",
      "metadata": {},
      "source": [
        "Now, let $x'=\\text{min}(x,b'-x)$ (note that according to this definition, $x' \\le b'/2$). According to the algorithm, the next step involves finding $f(x')$ and $f(b'-x')$. Suppose $f(x')<f(b'-x')$. The optimum is in the interval $[0, b'-x']$. Define $b''=b'-x'$ and $x''=\\text{min}(x',b''-x')$.\n",
        "\n",
        "We repeat the process obtaining $b''',b''''$, etc always supposing that $f(x'\\cdots')$ is the smaller of the two values. This produces a decreasing sequence $b',b'',b''',\\dots$ corresponding to smaller and smaller intervals in which the root must be located."
      ]
    },
    {
      "cell_type": "code",
      "execution_count": 163,
      "metadata": {
        "id": "CO3bAUJ16S_F"
      },
      "outputs": [],
      "source": [
        "def get_b_ratio_seq_arr(x_val_arr: ndarray, M: int, b: float) -> ndarray:\n",
        "  \"\"\"\n",
        "  Produces a N by M array of values of b'/b, b''/b', b'''/b'',... for each initial point in\n",
        "  x_val_arr given some value b, which is the upper bound in the interval [0, b].\n",
        "\n",
        "  Parameters\n",
        "    x_val_arr - Array containing x values that are the initial points\n",
        "\n",
        "    M - The number of terms in the b-ratio sequence\n",
        "    \n",
        "    b - The upper bound in the interval [0, b]\n",
        "\n",
        "  Returns\n",
        "    N by M array containing the sequence of ratios for each value in x_val_arr\n",
        "  \"\"\"\n",
        "  # Generate the N by M+1 zero array (b_arr). Each row contains the sequence [b, b', b'', ...]\n",
        "  # based on the initial point.\n",
        "  N = len(x_val_arr)\n",
        "  b_arr = np.zeros((N, M + 1))\n",
        "\n",
        "  # Each sequence always starts with b, so each entry in b_arr's first column is b.\n",
        "  b_arr[:, 0] = b  \n",
        "\n",
        "  for i in range(N):\n",
        "    # Get the initial point from x_val_arr\n",
        "    x = x_val_arr[i]\n",
        "\n",
        "    for j in range(1, M + 1):\n",
        "      # Definition of b^j\n",
        "      b_arr[i, j] = b_arr[i, j - 1] - x\n",
        "\n",
        "      # Definition of x^j\n",
        "      x = min(x, b_arr[i, j] - x)\n",
        "  \n",
        "  # If each row in b_arr is [b, b', b'', b''', ...] and we need [b'/b, b''/b', b'''/b'', ...],\n",
        "  # Numerator can be sliced from index 1 to the end: [b', b'', b''', ...]\n",
        "  # Denominator can be sliced from index 0 to the second to last element: [b, b', b'', ...]\n",
        "  # These ratios can be calculated by element-wise division for any row i: b_arr[i, 1:] / b_arr[i, :-1]\n",
        "  # But, this division can be done by slicing b_arr. The result is a N by M array\n",
        "  b_ratio_arr = b_arr[:, 1:] / b_arr[:, :-1]\n",
        "\n",
        "  return b_ratio_arr"
      ]
    },
    {
      "cell_type": "markdown",
      "metadata": {},
      "source": [
        "To test this, let $M=20$ and $b=1$. This means that the interval is $[0, 1]$ and we are generating the first 20 terms of the sequence: $b'/b, b''/b', ...$ for each x value. The initial points in this case will be 8 evenly spaced values between 0 and 1/2, exclusively."
      ]
    },
    {
      "cell_type": "code",
      "execution_count": 164,
      "metadata": {
        "colab": {
          "base_uri": "https://localhost:8080/",
          "height": 282
        },
        "id": "ep89mRxw9t9J",
        "outputId": "9aca3f07-e589-41a2-eca0-de7b76c6f3c4"
      },
      "outputs": [
        {
          "data": {
            "image/png": "[encoded data removed]",
            "text/plain": [
              "<Figure size 432x288 with 1 Axes>"
            ]
          },
          "metadata": {
            "needs_background": "light"
          },
          "output_type": "display_data"
        }
      ],
      "source": [
        "M = 20\n",
        "b = 1\n",
        "\n",
        "# Generate 10 values between 0 and b/2 but subset between the limits\n",
        "x_values = np.linspace(0, b / 2, num = 10)[1:-1]\n",
        "\n",
        "# 1-(1/𝞿) is a special value, so it will be added to the x_values array\n",
        "one_minus_phi_inv = 1 - PHI_INVERSE\n",
        "x_values = np.append(x_values, one_minus_phi_inv)\n",
        "\n",
        "# Generate the b_ratio_arr based on the given\n",
        "b_ratio_arr = get_b_ratio_seq_arr(x_values, M, b)\n",
        "\n",
        "# Generate the x_axis values\n",
        "x_axis = np.arange(M)\n",
        "\n",
        "# Plot the b ratio sequence for every initial point on the same x_axis\n",
        "for i in range(len(x_values)):\n",
        "  plot(x_axis, b_ratio_arr[i, :])\n",
        "title(\"Ratio between consecutive $b$ values\")\n",
        "ylabel(\"$b^{M+1}/b^{M}$\")\n",
        "xlabel(\"$M$\")\n",
        "show()"
      ]
    },
    {
      "cell_type": "markdown",
      "metadata": {},
      "source": [
        "# Why is $1-1/\\varphi$ special?\n",
        "In the previous plot, there are some initial points whose $b^{M+1}/b^M$ decreases initially but then spike to 1. This means that the interval is shrinking; however, at some point, the interval stops shrinking overall. On the other hand, some initial points have ratios that increase and decrease but still spike to 1.\n",
        "\n",
        "But, notice how there's one line that's constant. This means that one initial point stabilized the ratio $b^{M+1}/b^M$ meaning that the interval is shrinking each time but by the same factor. It turns out that initial point is $1-1/\\varphi$. Why is this?\n",
        "\n",
        "If one runs through the algorithm, the intervals turn out to be the following:\n",
        "$$\\left[0,1\\right] \\Rightarrow \\left[0,\\frac{1}{\\varphi}\\right] \\Rightarrow \\left[0,\\frac{1}{\\varphi^{2}}\\right] \\Rightarrow \\left[0,\\frac{1}{\\varphi^{3}}\\right]$$\n",
        "\n",
        "The length of each interval is $1$, $1/\\varphi$, $1/\\varphi^{2}$, and $1/\\varphi^{3}$, respectively. As shown in the next cell, the b sequence is exactly the same as the lengths mentioned:\n",
        "$$b=1, b'=\\frac{1}{\\varphi}, b''=\\frac{1}{\\varphi^{2}}, b'''=\\frac{1}{\\varphi^{3}}$$\n",
        "\n",
        "Now compare the ratios with one another\n",
        "$$\\frac{b'}{b}=\\frac{\\frac{1}{\\varphi}}{1}=\\frac{1}{\\varphi}$$\n",
        "$$\\frac{b''}{b'}=\\frac{\\frac{1}{\\varphi^{2}}}{\\frac{1}{\\varphi}}=\\frac{1}{\\varphi}$$\n",
        "$$\\frac{b'''}{b''}=\\frac{\\frac{1}{\\varphi^{3}}}{\\frac{1}{\\varphi^{2}}}=\\frac{1}{\\varphi}$$\n",
        "\n",
        "This shows that the exact ratio $b^{M+1}/b^M$ stays on is $1/\\varphi$ when the initial point is $1-1/\\varphi$.\n",
        "\n",
        "$1/\\varphi$ is the exact value used in the Golden Section Search Algorithm."
      ]
    },
    {
      "cell_type": "markdown",
      "metadata": {},
      "source": [
        "# In case the math is wanted..."
      ]
    },
    {
      "cell_type": "markdown",
      "metadata": {},
      "source": [
        "Since the interval was $[0, 1]$, we follow the golden section search algorithm as specified earlier:\n",
        "\n",
        "$$b=1, x=1-\\frac{1}{\\varphi}$$\n",
        "\n",
        "The interval would be $[0, b-x]$ so\n",
        "$$\\left[0, 1-\\left(1-\\frac{1}{\\varphi}\\right)\\right] \\Rightarrow \\left[0, \\frac{1}{\\varphi}\\right]$$\n",
        "\n",
        "Repeat process for the next interval\n",
        "$$b'=b-x=\\frac{1}{\\varphi}$$\n",
        "$$x'=\\min(x,b'-x)=\\min\\left(1-\\frac{1}{\\varphi},\\frac{1}{\\varphi}-\\left(1-\\frac{1}{\\varphi}\\right)\\right)=\\min\\left(1-\\frac{1}{\\varphi},\\frac{2}{\\varphi}-1\\right)=\\frac{2}{\\varphi}-1$$\n",
        "\n",
        "The new interval would be $[0, b'-x']$ or\n",
        "\n",
        "$$[0,b'-x'] \\Rightarrow \\left[0, \\frac{1}{\\varphi} - \\left(\\frac{2}{\\varphi}-1\\right)\\right] \\Rightarrow \\left[0, 1-\\frac{1}{\\varphi}\\right] \\Rightarrow \\left[0, \\frac{1}{\\varphi^{2}}\\right]$$\n",
        "\n",
        "Repeat one more time\n",
        "$$b''=b'-x'=\\frac{1}{\\varphi^{2}}$$\n",
        "$$x''=\\min(x',b''-x')=\\min\\left(\\frac{2}{\\varphi}-1,\\frac{1}{\\varphi}-\\left(\\frac{2}{\\varphi}-1\\right)\\right)=\\min\\left(\\frac{2}{\\varphi}-1,\\frac{1}{\\varphi^{2}}-\\frac{2}{\\varphi}+1\\right)=\\frac{1}{\\varphi^{2}}-\\frac{2}{\\varphi}+1$$\n",
        "\n",
        "The new interval would be $[0, b''-x'']$ or\n",
        "\n",
        "$$[0,b''-x''] \\Rightarrow \\left[0, \\frac{1}{\\varphi^{2}} - \\left(\\frac{1}{\\varphi^{2}}-\\frac{2}{\\varphi}+1\\right)\\right] \\Rightarrow \\left[0, \\frac{2}{\\varphi}-1\\right] \\Rightarrow \\left[0, \\frac{1}{\\varphi^{3}} \\right]$$\n",
        "\n",
        "If we keep going then $b'''=1/\\varphi^{3}$"
      ]
    }
  ],
  "metadata": {
    "colab": {
      "collapsed_sections": [],
      "name": "Golden Search.ipynb",
      "provenance": []
    },
    "kernelspec": {
      "display_name": "Python 3.10.2 64-bit",
      "language": "python",
      "name": "python3"
    },
    "language_info": {
      "codemirror_mode": {
        "name": "ipython",
        "version": 3
      },
      "file_extension": ".py",
      "mimetype": "text/x-python",
      "name": "python",
      "nbconvert_exporter": "python",
      "pygments_lexer": "ipython3",
      "version": "3.10.2"
    },
    "vscode": {
      "interpreter": {
        "hash": "aee8b7b246df8f9039afb4144a1f6fd8d2ca17a180786b69acc140d282b71a49"
      }
    }
  },
  "nbformat": 4,
  "nbformat_minor": 0
}
